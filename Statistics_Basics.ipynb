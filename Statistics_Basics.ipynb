{
  "nbformat": 4,
  "nbformat_minor": 0,
  "metadata": {
    "colab": {
      "provenance": []
    },
    "kernelspec": {
      "name": "python3",
      "display_name": "Python 3"
    },
    "language_info": {
      "name": "python"
    }
  },
  "cells": [
    {
      "cell_type": "markdown",
      "source": [
        "**Statistics** **Basics**\n",
        "\n",
        "1.What is statistics, and why is it important?\n",
        "  \n",
        "  Ans -  \n",
        "   - Statistics is a branch of mathematics focused on collecting, analyzing, interpreting, presenting, and organizing data.\n",
        "\n",
        "2.What are the two main types of statistics?\n",
        "  \n",
        "  Ans -\n",
        "   - The two main types of statistics are descriptive statistics and inferential statistics.\n",
        "\n",
        "3.What are descriptive statistics?\n",
        "\n",
        "  Ans -\n",
        "  - Descriptive statistics are used to summarize, organize, and describe the characteristics of a dataset in a meaningful way, without making inferences about a larger population\n",
        "\n",
        "\n",
        "4.What is inferential statistics?\n",
        "\n",
        "  Ans -\n",
        "   - Inferential statistics is the branch of statistics that uses data from a sample to make estimates, predictions, or generalizations about a population. It includes hypothesis testing, confidence intervals, and regression analysis.\n",
        "\n",
        "5.What is sampling in statistics?\n",
        "\n",
        "  Ans -\n",
        "   - Sampling is the process of selecting a subset of individuals or items from a larger population to analyze and draw conclusions about the entire group.\n",
        "\n",
        "6.What are the different types of sampling methods?\n",
        "\n",
        "  Ans -\n",
        "  - Random Sampling (Simple, Systematic, Stratified, Cluster) ,\n",
        "  \n",
        "  - Non-Random Sampling (Convenience, Judgmental, Quota, Snowball)\n",
        "\n",
        "7.What is the difference between random and non-random sampling?\n",
        "\n",
        "  Ans -\n",
        "  - Random Sampling: Every member of the population has an equal chance of being selected.\n",
        "\n",
        "  - Non-Random Sampling: Selection is based on subjective judgment or convenience, which may introduce bias.\n",
        "\n",
        "8.Define and give examples of qualitative and quantitative data?\n",
        "\n",
        "  Ans -\n",
        "  - Qualitative Data (Categorical): Describes characteristics (e.g., color, gender, type). Example: \"Blue car\", \"Female\".\n",
        "\n",
        "  - Quantitative Data (Numerical): Represents amounts or counts. Example: \"Age = 25\", \"Income = ₹50,000\".\n",
        "\n",
        "9.What are the different types of data in statistics?\n",
        "\n",
        "  Ans -\n",
        "  - Qualitative Data: Nominal and Ordinal\n",
        "  - Quantitative Data: Discrete and Continuous\n",
        "\n",
        "10.Explain nominal, ordinal, interval, and ratio levels of measurement?\n",
        "\n",
        "  Ans -\n",
        "  - Nominal: Categories without order (e.g., blood type).\n",
        "\n",
        "  - Ordinal: Ordered categories (e.g., survey ratings: good, better, best).\n",
        "\n",
        "  - Interval: Numeric, equal intervals, no true zero (e.g., temperature in Celsius).\n",
        "\n",
        "  - Ratio: Numeric, equal intervals, true zero (e.g., weight, height).\n",
        "\n",
        "\n",
        "\n",
        "11.What is the measure of central tendency?\n",
        "\n",
        "  Ans -\n",
        "   - It describes the center or average of a dataset. The main measures are mean, median, and mode.\n",
        "\n",
        "12.Define mean, median, and mode?\n",
        "\n",
        "  Ans -\n",
        "  - Mean: The average of all values.\n",
        "\n",
        "  - Median: The middle value when data is sorted.\n",
        "\n",
        "  - Mode: The most frequently occurring value.\n",
        "\n",
        "13.What is the significance of the measure of central tendency?\n",
        "\n",
        "  Ans -\n",
        "   - It helps summarize a large dataset with a single value representing the center or typical value, aiding comparisons and analysis.\n",
        "\n",
        "14.What is variance, and how is it calculated?\n",
        "\n",
        "  Ans -\n",
        "   - Variance measures the average squared deviation from the mean.\n",
        "  \n",
        "\n",
        "15.What is standard deviation, and why is it important?\n",
        "\n",
        "  Ans -\n",
        "   - Standard deviation is the square root of variance. It shows how spread out the data is from the mean, making it easier to interpret dispersion.\n",
        "\n",
        "16.Define and explain the term range in statistics?\n",
        "\n",
        "  Ans -\n",
        "   - Range is the difference between the maximum and minimum values in a dataset.\n",
        "  - Formula: Range = Max - Min\n",
        "\n",
        "17.What is the difference between variance and standard deviation?\n",
        "\n",
        "  Ans -\n",
        "  - Variance is the average squared deviation from the mean.\n",
        "\n",
        "  - Standard deviation is the square root of variance and is in the same unit as the original data.\n",
        "\n",
        "18.What is skewness in a dataset?\n",
        "\n",
        "  Ans -\n",
        "   - Skewness measures the asymmetry of a dataset's distribution. It shows if data is spread more to one side of the mean.\n",
        "\n",
        "19.What does it mean if a dataset is positively or negatively skewed?\n",
        "\n",
        "  Ans -\n",
        "  - Positive Skew: Tail on the right; mean > median.\n",
        "\n",
        "  - Negative Skew: Tail on the left; mean < median.\n",
        "\n",
        "20.Define and explain kurtosis?\n",
        "\n",
        "  Ans - Kurtosis measures the \"tailedness\" of a distribution.\n",
        "\n",
        "  - High kurtosis: More outliers (heavy tails).\n",
        "\n",
        "  - Low kurtosis: Fewer outliers (light tails).\n",
        "\n",
        "21.What is the purpose of covariance?\n",
        "\n",
        "  Ans -\n",
        "   - Covariance measures how two variables change together. A positive value indicates a direct relationship; negative indicates inverse.\n",
        "\n",
        "22.What does correlation measure in statistics?\n",
        "\n",
        "  Ans -\n",
        "   - Correlation measures the strength and direction of a linear relationship between two variables, ranging from -1 to +1.\n",
        "\n",
        "23.What is the difference between covariance and correlation?\n",
        "\n",
        "  Ans -\n",
        "  - Covariance: Shows direction of relationship; unit-dependent.\n",
        "\n",
        "  - Correlation: Standardized measure; shows both direction and strength; unit-free.\n",
        "\n",
        "24.What are some real-world applications of statistics?\n",
        "\n",
        "  Ans -\n",
        " - Healthcare: Analyzing patient data, drug trials.\n",
        "\n",
        " - Finance: Risk assessment, market trends.\n",
        "\n",
        " - Business: Customer analysis, sales forecasting.\n",
        "\n",
        " - Education: Exam scoring, performance evaluation.\n",
        "\n",
        " - Government: Census data, policy decisions.\n",
        "\n",
        "\n"
      ],
      "metadata": {
        "id": "mKRgj2IxiW7G"
      }
    },
    {
      "cell_type": "code",
      "source": [
        "#Practical\n",
        "\n",
        "#1. How do you calculate the mean, median, and mode of a dataset?\n",
        "\n",
        "import numpy as np\n",
        "import pandas as pd\n",
        "import seaborn as sns\n",
        "import matplotlib.pyplot as plt\n",
        "from scipy import stats\n",
        "\n",
        "\n",
        "import statistics\n",
        "\n",
        "data = [4, 7, 1, 2, 7, 5, 7, 3]\n",
        "\n",
        "mean = statistics.mean(data)\n",
        "median = statistics.median(data)\n",
        "mode = statistics.mode(data)\n",
        "\n",
        "print(\"Mean:\", mean)\n",
        "print(\"Median:\", median)\n",
        "print(\"Mode:\", mode)"
      ],
      "metadata": {
        "colab": {
          "base_uri": "https://localhost:8080/"
        },
        "id": "Ry00vTk4o2Dg",
        "outputId": "cf141ec0-30a7-4223-dded-b082870bec1e"
      },
      "execution_count": 17,
      "outputs": [
        {
          "output_type": "stream",
          "name": "stdout",
          "text": [
            "Mean: 4.5\n",
            "Median: 4.5\n",
            "Mode: 7\n"
          ]
        }
      ]
    },
    {
      "cell_type": "code",
      "source": [
        "#2. Write a Python program to compute the variance and standard deviation of a dataset\n",
        "\n",
        "import statistics\n",
        "\n",
        "data = [10, 20, 30, 40, 50]\n",
        "\n",
        "variance = statistics.variance(data)      # Sample variance\n",
        "std_dev = statistics.stdev(data)          # Sample standard deviation\n",
        "\n",
        "print(\"Variance:\", variance)\n",
        "print(\"Standard Deviation:\", std_dev)\n"
      ],
      "metadata": {
        "colab": {
          "base_uri": "https://localhost:8080/"
        },
        "id": "1EmnGjwgdv_3",
        "outputId": "6cf31d89-cb19-4982-fcdd-a7c95a72fcc7"
      },
      "execution_count": 4,
      "outputs": [
        {
          "output_type": "stream",
          "name": "stdout",
          "text": [
            "Variance: 250\n",
            "Standard Deviation: 15.811388300841896\n"
          ]
        }
      ]
    },
    {
      "cell_type": "code",
      "source": [
        "#4. Implement sampling techniques like random sampling and stratified sampling\n",
        "\n",
        "import pandas as pd\n",
        "import numpy as np\n",
        "from sklearn.model_selection import train_test_split\n",
        "\n",
        "# Sample dataset\n",
        "data = pd.DataFrame({\n",
        "    'Name': ['A', 'B', 'C', 'D', 'E', 'F', 'G', 'H'],\n",
        "    'Gender': ['M', 'F', 'F', 'M', 'F', 'M', 'F', 'M'],\n",
        "    'Score': [88, 92, 79, 85, 95, 90, 78, 84]\n",
        "})\n",
        "\n",
        "# Random Sampling (Select 3 random rows)\n",
        "random_sample = data.sample(n=3, random_state=1)\n",
        "print(\"Random Sample:\\n\", random_sample)\n",
        "\n",
        "# Stratified Sampling based on 'Gender'\n",
        "stratified_sample, _ = train_test_split(data, test_size=0.5, stratify=data['Gender'], random_state=1)\n",
        "print(\"\\nStratified Sample:\\n\", stratified_sample)\n"
      ],
      "metadata": {
        "colab": {
          "base_uri": "https://localhost:8080/"
        },
        "id": "Bjwhvd5Sfduh",
        "outputId": "5c71e726-9023-4ef9-dfe2-7a707ccf2178"
      },
      "execution_count": 6,
      "outputs": [
        {
          "output_type": "stream",
          "name": "stdout",
          "text": [
            "Random Sample:\n",
            "   Name Gender  Score\n",
            "7    H      M     84\n",
            "2    C      F     79\n",
            "1    B      F     92\n",
            "\n",
            "Stratified Sample:\n",
            "   Name Gender  Score\n",
            "5    F      M     90\n",
            "0    A      M     88\n",
            "6    G      F     78\n",
            "4    E      F     95\n"
          ]
        }
      ]
    },
    {
      "cell_type": "code",
      "source": [
        "#5. Write a Python function to calculate the range of a dataset\n",
        "\n",
        "def calculate_range(dataset):\n",
        "    return max(dataset) - min(dataset)\n",
        "\n",
        "# Example usage\n",
        "data = [12, 45, 67, 23, 89, 34]\n",
        "range_value = calculate_range(data)\n",
        "print(\"Range of dataset:\", range_value)\n"
      ],
      "metadata": {
        "colab": {
          "base_uri": "https://localhost:8080/"
        },
        "id": "s3f5f8b9gA2Z",
        "outputId": "d974050a-52b1-4aa7-dcf3-5faebb5d4ee1"
      },
      "execution_count": 7,
      "outputs": [
        {
          "output_type": "stream",
          "name": "stdout",
          "text": [
            "Range of dataset: 77\n"
          ]
        }
      ]
    },
    {
      "cell_type": "code",
      "source": [
        "#6. Create a dataset and plot its histogram to visualize skewness\n",
        "\n",
        "import matplotlib.pyplot as plt\n",
        "import numpy as np\n",
        "\n",
        "# Create a right-skewed dataset\n",
        "data = np.random.exponential(scale=2, size=1000)\n",
        "\n",
        "plt.hist(data, bins=30, edgecolor='black')\n",
        "plt.title('Histogram (Skewed Data)')\n",
        "plt.xlabel('Value')\n",
        "plt.ylabel('Frequency')\n",
        "plt.show()\n"
      ],
      "metadata": {
        "colab": {
          "base_uri": "https://localhost:8080/",
          "height": 472
        },
        "id": "HnPxTmdggI30",
        "outputId": "be80bcc0-447a-4245-b1d5-2a54af8921f9"
      },
      "execution_count": 8,
      "outputs": [
        {
          "output_type": "display_data",
          "data": {
            "text/plain": [
              "<Figure size 640x480 with 1 Axes>"
            ],
            "image/png": "[encoded data removed]"
          },
          "metadata": {}
        }
      ]
    },
    {
      "cell_type": "code",
      "source": [
        "#7. Calculate skewness and kurtosis of a dataset using Python libraries\n",
        "\n",
        "from scipy.stats import skew, kurtosis\n",
        "\n",
        "data = np.random.normal(0, 1, 1000)\n",
        "\n",
        "print(\"Skewness:\", skew(data))\n",
        "print(\"Kurtosis:\", kurtosis(data))  # Excess kurtosis (normal dist = 0)\n"
      ],
      "metadata": {
        "colab": {
          "base_uri": "https://localhost:8080/"
        },
        "id": "cpkw-xhQhUI3",
        "outputId": "37b16873-8f4c-4818-e760-cb05287054bb"
      },
      "execution_count": 9,
      "outputs": [
        {
          "output_type": "stream",
          "name": "stdout",
          "text": [
            "Skewness: -0.027570308810397307\n",
            "Kurtosis: 0.07513734957529472\n"
          ]
        }
      ]
    },
    {
      "cell_type": "code",
      "source": [
        "#8.Generate a dataset and demonstrate positive and negative skewness\n",
        "\n",
        "# Positive skew\n",
        "pos_skew = np.random.exponential(scale=2, size=1000)\n",
        "# Negative skew (mirror of positive skew)\n",
        "neg_skew = -np.random.exponential(scale=2, size=1000)\n",
        "\n",
        "plt.figure(figsize=(12, 5))\n",
        "\n",
        "plt.subplot(1, 2, 1)\n",
        "plt.hist(pos_skew, bins=30, color='blue')\n",
        "plt.title(\"Positive Skew\")\n",
        "\n",
        "plt.subplot(1, 2, 2)\n",
        "plt.hist(neg_skew, bins=30, color='green')\n",
        "plt.title(\"Negative Skew\")\n",
        "\n",
        "plt.tight_layout()\n",
        "plt.show()\n"
      ],
      "metadata": {
        "colab": {
          "base_uri": "https://localhost:8080/",
          "height": 507
        },
        "id": "ka5HliBNhXez",
        "outputId": "8f55ca0c-cd00-425e-d849-e7e9e188cf60"
      },
      "execution_count": 10,
      "outputs": [
        {
          "output_type": "display_data",
          "data": {
            "text/plain": [
              "<Figure size 1200x500 with 2 Axes>"
            ],
            "image/png": "[encoded data removed]"
          },
          "metadata": {}
        }
      ]
    },
    {
      "cell_type": "code",
      "source": [
        "#9.Write a Python script to calculate covariance between two datasets\n",
        "\n",
        "import numpy as np\n",
        "\n",
        "x = [2, 4, 6, 8, 10]\n",
        "y = [1, 3, 5, 7, 9]\n",
        "\n",
        "cov_matrix = np.cov(x, y)\n",
        "covariance = cov_matrix[0, 1]\n",
        "print(\"Covariance:\", covariance)\n"
      ],
      "metadata": {
        "colab": {
          "base_uri": "https://localhost:8080/"
        },
        "id": "9wcrQ_ZJhe86",
        "outputId": "c25804ca-7393-4145-bdb5-13af55c6cb91"
      },
      "execution_count": 11,
      "outputs": [
        {
          "output_type": "stream",
          "name": "stdout",
          "text": [
            "Covariance: 10.0\n"
          ]
        }
      ]
    },
    {
      "cell_type": "code",
      "source": [
        "#10.Write a Python script to calculate the correlation coefficient between two datasets\n",
        "\n",
        "correlation = np.corrcoef(x, y)[0, 1]\n",
        "print(\"Correlation Coefficient:\", correlation)\n"
      ],
      "metadata": {
        "colab": {
          "base_uri": "https://localhost:8080/"
        },
        "id": "_KDL2HsDhkMc",
        "outputId": "3eea49a4-c329-4b3e-9367-94f3995e5c5f"
      },
      "execution_count": 12,
      "outputs": [
        {
          "output_type": "stream",
          "name": "stdout",
          "text": [
            "Correlation Coefficient: 0.9999999999999999\n"
          ]
        }
      ]
    },
    {
      "cell_type": "code",
      "source": [
        "#11.Create a scatter plot to visualize the relationship between two variables\n",
        "\n",
        "plt.scatter(x, y, color='purple')\n",
        "plt.title(\"Scatter Plot\")\n",
        "plt.xlabel(\"X values\")\n",
        "plt.ylabel(\"Y values\")\n",
        "plt.grid(True)\n",
        "plt.show()\n"
      ],
      "metadata": {
        "colab": {
          "base_uri": "https://localhost:8080/",
          "height": 472
        },
        "id": "SGSGs3r7hpwl",
        "outputId": "a4d124c4-9d92-430a-8d67-2c10f86fff89"
      },
      "execution_count": 13,
      "outputs": [
        {
          "output_type": "display_data",
          "data": {
            "text/plain": [
              "<Figure size 640x480 with 1 Axes>"
            ],
            "image/png": "[encoded data removed]"
          },
          "metadata": {}
        }
      ]
    },
    {
      "cell_type": "code",
      "source": [
        "#12. Implement and compare simple random sampling and systematic sampling\n",
        "\n",
        "import pandas as pd\n",
        "\n",
        "# Sample dataset\n",
        "df = pd.DataFrame({'ID': range(1, 21)})\n",
        "\n",
        "# Simple Random Sampling\n",
        "simple_random = df.sample(n=5, random_state=1)\n",
        "\n",
        "# Systematic Sampling\n",
        "step = len(df) // 5\n",
        "systematic = df.iloc[::step][:5]\n",
        "\n",
        "print(\"Simple Random Sample:\\n\", simple_random)\n",
        "print(\"\\nSystematic Sample:\\n\", systematic)\n"
      ],
      "metadata": {
        "colab": {
          "base_uri": "https://localhost:8080/"
        },
        "id": "6uzATlKRhv9t",
        "outputId": "2f23b0e7-adfe-46db-842b-0f09feb8924d"
      },
      "execution_count": 14,
      "outputs": [
        {
          "output_type": "stream",
          "name": "stdout",
          "text": [
            "Simple Random Sample:\n",
            "     ID\n",
            "3    4\n",
            "16  17\n",
            "6    7\n",
            "10  11\n",
            "2    3\n",
            "\n",
            "Systematic Sample:\n",
            "     ID\n",
            "0    1\n",
            "4    5\n",
            "8    9\n",
            "12  13\n",
            "16  17\n"
          ]
        }
      ]
    },
    {
      "cell_type": "code",
      "source": [
        "#13. Calculate the mean, median, and mode of grouped data\n",
        "\n",
        "import statistics as stats\n",
        "\n",
        "# Grouped data (class midpoint and frequency)\n",
        "class_midpoints = [10, 20, 30, 40, 50]\n",
        "frequencies = [5, 8, 15, 16, 6]\n",
        "\n",
        "# Expand grouped data\n",
        "grouped_data = []\n",
        "for mid, freq in zip(class_midpoints, frequencies):\n",
        "    grouped_data.extend([mid] * freq)\n",
        "\n",
        "mean = stats.mean(grouped_data)\n",
        "median = stats.median(grouped_data)\n",
        "mode = stats.mode(grouped_data)\n",
        "\n",
        "print(\"Grouped Mean:\", mean)\n",
        "print(\"Grouped Median:\", median)\n",
        "print(\"Grouped Mode:\", mode)\n"
      ],
      "metadata": {
        "colab": {
          "base_uri": "https://localhost:8080/"
        },
        "id": "dE0CffG9h3x4",
        "outputId": "7cb491f4-3925-4b36-e66d-a2508a7d8d64"
      },
      "execution_count": 15,
      "outputs": [
        {
          "output_type": "stream",
          "name": "stdout",
          "text": [
            "Grouped Mean: 32\n",
            "Grouped Median: 30.0\n",
            "Grouped Mode: 40\n"
          ]
        }
      ]
    },
    {
      "cell_type": "code",
      "source": [
        "#14. Simulate data using Python and calculate its central tendency and dispersion\n",
        "\n",
        "simulated_data = np.random.normal(loc=50, scale=10, size=1000)\n",
        "\n",
        "mean = np.mean(simulated_data)\n",
        "median = np.median(simulated_data)\n",
        "mode = stats.mode(simulated_data)\n",
        "std_dev = np.std(simulated_data)\n",
        "variance = np.var(simulated_data)\n",
        "data_range = np.max(simulated_data) - np.min(simulated_data)\n",
        "\n",
        "print(f\"Mean: {mean:.2f}\")\n",
        "print(f\"Median: {median:.2f}\")\n",
        "print(f\"Mode: {mode}\")\n",
        "print(f\"Standard Deviation: {std_dev:.2f}\")\n",
        "print(f\"Variance: {variance:.2f}\")\n",
        "print(f\"Range: {data_range:.2f}\")\n"
      ],
      "metadata": {
        "colab": {
          "base_uri": "https://localhost:8080/"
        },
        "id": "NYYP18E9h_tg",
        "outputId": "caaddd38-1ee5-4b20-a01e-73542de8a35c"
      },
      "execution_count": 16,
      "outputs": [
        {
          "output_type": "stream",
          "name": "stdout",
          "text": [
            "Mean: 49.62\n",
            "Median: 49.42\n",
            "Mode: 59.154347575742435\n",
            "Standard Deviation: 9.95\n",
            "Variance: 98.97\n",
            "Range: 56.63\n"
          ]
        }
      ]
    },
    {
      "cell_type": "code",
      "source": [
        "#15. Use NumPy or pandas to summarize a dataset’s descriptive statistics\n",
        "\n",
        "# Sample dataset\n",
        "data = pd.DataFrame({\n",
        "    'Score': [45, 67, 56, 78, 90, 45, 88, 55, 76, 98]\n",
        "})\n",
        "\n",
        "# Descriptive statistics\n",
        "print(data.describe())\n"
      ],
      "metadata": {
        "colab": {
          "base_uri": "https://localhost:8080/"
        },
        "id": "8yU0r2tviEk_",
        "outputId": "2a416a54-605b-497b-833f-5202269fcf6f"
      },
      "execution_count": 18,
      "outputs": [
        {
          "output_type": "stream",
          "name": "stdout",
          "text": [
            "           Score\n",
            "count  10.000000\n",
            "mean   69.800000\n",
            "std    19.112532\n",
            "min    45.000000\n",
            "25%    55.250000\n",
            "50%    71.500000\n",
            "75%    85.500000\n",
            "max    98.000000\n"
          ]
        }
      ]
    },
    {
      "cell_type": "code",
      "source": [
        "#16. Plot a boxplot to understand the spread and identify outliers\n",
        "\n",
        "sns.boxplot(data=data, y='Score')\n",
        "plt.title('Boxplot of Scores')\n",
        "plt.show()\n"
      ],
      "metadata": {
        "colab": {
          "base_uri": "https://localhost:8080/",
          "height": 433
        },
        "id": "_Jn6if4TjN7t",
        "outputId": "c1309689-7e30-4d42-f2b0-2f56e3e7a7a3"
      },
      "execution_count": 19,
      "outputs": [
        {
          "output_type": "display_data",
          "data": {
            "text/plain": [
              "<Figure size 640x480 with 1 Axes>"
            ],
            "image/png": "[encoded data removed]"
          },
          "metadata": {}
        }
      ]
    },
    {
      "cell_type": "code",
      "source": [
        "#17. Calculate the interquartile range (IQR) of a dataset\n",
        "\n",
        "Q1 = data['Score'].quantile(0.25)\n",
        "Q3 = data['Score'].quantile(0.75)\n",
        "IQR = Q3 - Q1\n",
        "print(f'IQR: {IQR}')\n"
      ],
      "metadata": {
        "colab": {
          "base_uri": "https://localhost:8080/"
        },
        "id": "dz5UCJqkjUZC",
        "outputId": "e7d7e347-cefa-4106-dc43-e356ea6ab47f"
      },
      "execution_count": 20,
      "outputs": [
        {
          "output_type": "stream",
          "name": "stdout",
          "text": [
            "IQR: 30.25\n"
          ]
        }
      ]
    },
    {
      "cell_type": "code",
      "source": [
        "#18. Implement Z-score normalization and explain its significance\n",
        "\n",
        "# Z-score normalization\n",
        "data['Z_Score'] = stats.zscore(data['Score'])\n",
        "\n",
        "print(data)\n",
        "\n",
        "# Significance:\n",
        "# Z-score helps to standardize values so they have a mean = 0 and std dev = 1\n",
        "# Useful for comparing variables measured in different scales\n"
      ],
      "metadata": {
        "colab": {
          "base_uri": "https://localhost:8080/"
        },
        "id": "IgkGVy7cjaQs",
        "outputId": "0ddd9765-a338-4c98-ca28-85a6432e823c"
      },
      "execution_count": 21,
      "outputs": [
        {
          "output_type": "stream",
          "name": "stdout",
          "text": [
            "   Score   Z_Score\n",
            "0     45 -1.367767\n",
            "1     67 -0.154425\n",
            "2     56 -0.761096\n",
            "3     78  0.452246\n",
            "4     90  1.114068\n",
            "5     45 -1.367767\n",
            "6     88  1.003765\n",
            "7     55 -0.816248\n",
            "8     76  0.341942\n",
            "9     98  1.555284\n"
          ]
        }
      ]
    },
    {
      "cell_type": "code",
      "source": [
        "#19. Compare two datasets using their standard deviations\n",
        "\n",
        "dataset1 = np.random.normal(50, 10, 100)\n",
        "dataset2 = np.random.normal(50, 20, 100)\n",
        "\n",
        "print(\"Standard Deviation of Dataset 1:\", np.std(dataset1))\n",
        "print(\"Standard Deviation of Dataset 2:\", np.std(dataset2))\n",
        "\n",
        "# Dataset 2 is more spread out due to a higher standard deviation\n"
      ],
      "metadata": {
        "colab": {
          "base_uri": "https://localhost:8080/"
        },
        "id": "zr-cuqPXjfq_",
        "outputId": "02863849-5a17-42be-827a-6570d99bdddf"
      },
      "execution_count": 22,
      "outputs": [
        {
          "output_type": "stream",
          "name": "stdout",
          "text": [
            "Standard Deviation of Dataset 1: 9.814709689813943\n",
            "Standard Deviation of Dataset 2: 20.49810204563922\n"
          ]
        }
      ]
    },
    {
      "cell_type": "code",
      "source": [
        "#20. Write a Python program to visualize covariance using a heatmap\n",
        "\n",
        "df = pd.DataFrame({\n",
        "    'Math': [78, 65, 89, 70, 90],\n",
        "    'Science': [80, 60, 88, 65, 85],\n",
        "    'English': [70, 75, 85, 60, 90]\n",
        "})\n",
        "\n",
        "cov_matrix = df.cov()\n",
        "\n",
        "sns.heatmap(cov_matrix, annot=True, cmap='Blues')\n",
        "plt.title('Covariance Matrix Heatmap')\n",
        "plt.show()\n"
      ],
      "metadata": {
        "colab": {
          "base_uri": "https://localhost:8080/",
          "height": 452
        },
        "id": "PFybXI9sjlFZ",
        "outputId": "ec507044-9d9c-4771-b071-414abdb9cf03"
      },
      "execution_count": 23,
      "outputs": [
        {
          "output_type": "display_data",
          "data": {
            "text/plain": [
              "<Figure size 640x480 with 2 Axes>"
            ],
            "image/png": "[encoded data removed]"
          },
          "metadata": {}
        }
      ]
    },
    {
      "cell_type": "code",
      "source": [
        "#21. Use seaborn to create a correlation matrix for a dataset\n",
        "\n",
        "cor_matrix = df.corr()\n",
        "\n",
        "sns.heatmap(cor_matrix, annot=True, cmap='coolwarm')\n",
        "plt.title('Correlation Matrix')\n",
        "plt.show()\n"
      ],
      "metadata": {
        "colab": {
          "base_uri": "https://localhost:8080/",
          "height": 452
        },
        "id": "YwgcGcBojsB1",
        "outputId": "42fdd071-96ba-45a5-cb8d-b6920dec4a98"
      },
      "execution_count": 24,
      "outputs": [
        {
          "output_type": "display_data",
          "data": {
            "text/plain": [
              "<Figure size 640x480 with 2 Axes>"
            ],
            "image/png": "[encoded data removed]"
          },
          "metadata": {}
        }
      ]
    },
    {
      "cell_type": "code",
      "source": [
        "#22. Generate a dataset and implement both variance and standard deviation computations\n",
        "\n",
        "values = np.array([10, 20, 30, 40, 50])\n",
        "\n",
        "variance = np.var(values)\n",
        "std_dev = np.std(values)\n",
        "\n",
        "print(\"Variance:\", variance)\n",
        "print(\"Standard Deviation:\", std_dev)\n"
      ],
      "metadata": {
        "colab": {
          "base_uri": "https://localhost:8080/"
        },
        "id": "rDt3Biiijydf",
        "outputId": "743f2d7a-8881-4fda-8664-53c259da2eec"
      },
      "execution_count": 25,
      "outputs": [
        {
          "output_type": "stream",
          "name": "stdout",
          "text": [
            "Variance: 200.0\n",
            "Standard Deviation: 14.142135623730951\n"
          ]
        }
      ]
    },
    {
      "cell_type": "code",
      "source": [
        "#23. Visualize skewness and kurtosis using matplotlib or seaborn\n",
        "\n",
        "sns.histplot(data['Score'], kde=True)\n",
        "plt.title('Distribution of Scores')\n",
        "plt.show()\n",
        "\n",
        "print(\"Skewness:\", data['Score'].skew())\n",
        "print(\"Kurtosis:\", data['Score'].kurt())\n"
      ],
      "metadata": {
        "colab": {
          "base_uri": "https://localhost:8080/",
          "height": 507
        },
        "id": "NV0zdE_Gj32g",
        "outputId": "688d5cc6-6818-4c45-c4bc-c6fa773ea55c"
      },
      "execution_count": 26,
      "outputs": [
        {
          "output_type": "display_data",
          "data": {
            "text/plain": [
              "<Figure size 640x480 with 1 Axes>"
            ],
            "image/png": "[encoded data removed]"
          },
          "metadata": {}
        },
        {
          "output_type": "stream",
          "name": "stdout",
          "text": [
            "Skewness: 0.021656940215831665\n",
            "Kurtosis: -1.4679459622624003\n"
          ]
        }
      ]
    },
    {
      "cell_type": "code",
      "source": [
        "#24. Implement the Pearson and Spearman correlation coefficients for a dataset\n",
        "\n",
        "# Sample data\n",
        "x = np.array([10, 20, 30, 40, 50])\n",
        "y = np.array([15, 25, 35, 50, 65])\n",
        "\n",
        "pearson_corr, _ = stats.pearsonr(x, y)\n",
        "spearman_corr, _ = stats.spearmanr(x, y)\n",
        "\n",
        "print(\"Pearson Correlation:\", pearson_corr)\n",
        "print(\"Spearman Correlation:\", spearman_corr)\n"
      ],
      "metadata": {
        "colab": {
          "base_uri": "https://localhost:8080/"
        },
        "id": "CHvrXruVj80E",
        "outputId": "9aec18b9-d1df-404f-ba62-1c79b7f1d5eb"
      },
      "execution_count": 28,
      "outputs": [
        {
          "output_type": "stream",
          "name": "stdout",
          "text": [
            "Pearson Correlation: 0.9944466052196623\n",
            "Spearman Correlation: 0.9999999999999999\n"
          ]
        }
      ]
    }
  ]
}